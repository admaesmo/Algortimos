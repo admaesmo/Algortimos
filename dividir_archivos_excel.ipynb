{
  "nbformat": 4,
  "nbformat_minor": 0,
  "metadata": {
    "colab": {
      "provenance": [],
      "authorship_tag": "ABX9TyNzyTshRC+V1goVot3I8Bqx",
      "include_colab_link": true
    },
    "kernelspec": {
      "name": "python3",
      "display_name": "Python 3"
    },
    "language_info": {
      "name": "python"
    }
  },
  "cells": [
    {
      "cell_type": "markdown",
      "metadata": {
        "id": "view-in-github",
        "colab_type": "text"
      },
      "source": [
        "<a href=\"https://colab.research.google.com/github/admaesmo/Algortimos/blob/master/dividir_archivos_excel.ipynb\" target=\"_parent\"><img src=\"https://colab.research.google.com/assets/colab-badge.svg\" alt=\"Open In Colab\"/></a>"
      ]
    },
    {
      "cell_type": "code",
      "execution_count": 3,
      "metadata": {
        "colab": {
          "base_uri": "https://localhost:8080/"
        },
        "id": "PJsFQORWUTSe",
        "outputId": "8c6fc5e7-7167-4a1b-bf10-6e24fcb0efc4"
      },
      "outputs": [
        {
          "output_type": "stream",
          "name": "stdout",
          "text": [
            "Archivo creado: Productos_1.xlsx\n",
            "Archivo creado: Productos_2.xlsx\n",
            "Archivo creado: Productos_3.xlsx\n",
            "Archivo creado: Productos_4.xlsx\n",
            "Archivo creado: Productos_5.xlsx\n"
          ]
        }
      ],
      "source": [
        "import pandas as pd\n",
        "\n",
        "# Cargar el archivo Excel (reemplaza 'tu_archivo.xlsx' con el nombre de tu archivo)\n",
        "archivo = \"alegra.xlsx\"\n",
        "df = pd.read_excel(archivo)\n",
        "\n",
        "# Número máximo de registros por archivo\n",
        "max_registros = 500\n",
        "\n",
        "# Dividir el dataframe en partes de 500 filas\n",
        "for i, inicio in enumerate(range(0, len(df), max_registros)):\n",
        "    # Crear un subconjunto del dataframe\n",
        "    subset = df.iloc[inicio:inicio + max_registros]\n",
        "\n",
        "    # Guardar cada subconjunto en un archivo nuevo\n",
        "    nombre_archivo = f\"Productos_{i + 1}.xlsx\"\n",
        "    subset.to_excel(nombre_archivo, index=False)\n",
        "    print(f\"Archivo creado: {nombre_archivo}\")\n"
      ]
    }
  ]
}